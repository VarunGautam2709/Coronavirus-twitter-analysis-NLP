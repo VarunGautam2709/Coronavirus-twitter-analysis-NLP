{
 "cells": [
  {
   "cell_type": "code",
   "execution_count": 1,
   "id": "dd388ee7",
   "metadata": {},
   "outputs": [],
   "source": [
    "import pandas as pd\n",
    "import numpy as np\n",
    "import matplotlib.pyplot as plt\n",
    "%matplotlib inline\n",
    "import seaborn as sns\n",
    "\n",
    "import re\n",
    "import nltk\n",
    "# nltk.download('stopwords')\n",
    "# nltk.download('wordnet')\n",
    "# nltk.download('punkt')\n",
    "from nltk.corpus import stopwords\n",
    "from nltk.stem.porter import PorterStemmer\n",
    "from nltk.tokenize import word_tokenize, sent_tokenize\n",
    "from nltk.stem.wordnet import WordNetLemmatizer\n",
    "import string\n",
    "\n",
    "from sklearn.model_selection import train_test_split\n",
    "from sklearn.model_selection import cross_val_score, GridSearchCV\n",
    "from sklearn.metrics import confusion_matrix, classification_report, accuracy_score, f1_score, roc_curve, auc\n",
    "from sklearn.naive_bayes import MultinomialNB\n",
    "from sklearn.feature_extraction.text import CountVectorizer, TfidfVectorizer, TfidfTransformer\n",
    "import xgboost as xgb\n",
    "seed=10"
   ]
  },
  {
   "cell_type": "code",
   "execution_count": 2,
   "id": "b6a4e194",
   "metadata": {},
   "outputs": [
    {
     "data": {
      "text/plain": [
       "(   UserName  ScreenName   Location     TweetAt  \\\n",
       " 0      3799       48751     London  16-03-2020   \n",
       " 1      3800       48752         UK  16-03-2020   \n",
       " 2      3801       48753  Vagabonds  16-03-2020   \n",
       " 3      3802       48754        NaN  16-03-2020   \n",
       " 4      3803       48755        NaN  16-03-2020   \n",
       " \n",
       "                                        OriginalTweet           Sentiment  \n",
       " 0  @MeNyrbie @Phil_Gahan @Chrisitv https://t.co/i...             Neutral  \n",
       " 1  advice Talk to your neighbours family to excha...            Positive  \n",
       " 2  Coronavirus Australia: Woolworths to give elde...            Positive  \n",
       " 3  My food stock is not the only one which is emp...            Positive  \n",
       " 4  Me, ready to go at supermarket during the #COV...  Extremely Negative  ,\n",
       " (41157, 6))"
      ]
     },
     "execution_count": 2,
     "metadata": {},
     "output_type": "execute_result"
    }
   ],
   "source": [
    "data = pd.read_csv('Corona_NLP.csv')\n",
    "data.head(),data.shape"
   ]
  },
  {
   "cell_type": "code",
   "execution_count": 3,
   "id": "45549b37",
   "metadata": {},
   "outputs": [
    {
     "data": {
      "text/html": [
       "<div>\n",
       "<style scoped>\n",
       "    .dataframe tbody tr th:only-of-type {\n",
       "        vertical-align: middle;\n",
       "    }\n",
       "\n",
       "    .dataframe tbody tr th {\n",
       "        vertical-align: top;\n",
       "    }\n",
       "\n",
       "    .dataframe thead th {\n",
       "        text-align: right;\n",
       "    }\n",
       "</style>\n",
       "<table border=\"1\" class=\"dataframe\">\n",
       "  <thead>\n",
       "    <tr style=\"text-align: right;\">\n",
       "      <th></th>\n",
       "      <th>OriginalTweet</th>\n",
       "      <th>Sentiment</th>\n",
       "    </tr>\n",
       "  </thead>\n",
       "  <tbody>\n",
       "    <tr>\n",
       "      <th>0</th>\n",
       "      <td>@MeNyrbie @Phil_Gahan @Chrisitv https://t.co/i...</td>\n",
       "      <td>Neutral</td>\n",
       "    </tr>\n",
       "    <tr>\n",
       "      <th>1</th>\n",
       "      <td>advice Talk to your neighbours family to excha...</td>\n",
       "      <td>Positive</td>\n",
       "    </tr>\n",
       "    <tr>\n",
       "      <th>2</th>\n",
       "      <td>Coronavirus Australia: Woolworths to give elde...</td>\n",
       "      <td>Positive</td>\n",
       "    </tr>\n",
       "    <tr>\n",
       "      <th>3</th>\n",
       "      <td>My food stock is not the only one which is emp...</td>\n",
       "      <td>Positive</td>\n",
       "    </tr>\n",
       "    <tr>\n",
       "      <th>4</th>\n",
       "      <td>Me, ready to go at supermarket during the #COV...</td>\n",
       "      <td>Extremely Negative</td>\n",
       "    </tr>\n",
       "  </tbody>\n",
       "</table>\n",
       "</div>"
      ],
      "text/plain": [
       "                                       OriginalTweet           Sentiment\n",
       "0  @MeNyrbie @Phil_Gahan @Chrisitv https://t.co/i...             Neutral\n",
       "1  advice Talk to your neighbours family to excha...            Positive\n",
       "2  Coronavirus Australia: Woolworths to give elde...            Positive\n",
       "3  My food stock is not the only one which is emp...            Positive\n",
       "4  Me, ready to go at supermarket during the #COV...  Extremely Negative"
      ]
     },
     "execution_count": 3,
     "metadata": {},
     "output_type": "execute_result"
    }
   ],
   "source": [
    "data = data.iloc[:10000,-2:]\n",
    "data.head()"
   ]
  },
  {
   "cell_type": "markdown",
   "id": "f4e64f9a",
   "metadata": {},
   "source": [
    "## Checking for missing values"
   ]
  },
  {
   "cell_type": "code",
   "execution_count": 4,
   "id": "b108084e",
   "metadata": {},
   "outputs": [
    {
     "data": {
      "text/plain": [
       "OriginalTweet    False\n",
       "Sentiment        False\n",
       "dtype: bool"
      ]
     },
     "execution_count": 4,
     "metadata": {},
     "output_type": "execute_result"
    }
   ],
   "source": [
    "data.isnull().any()"
   ]
  },
  {
   "cell_type": "markdown",
   "id": "75aec06c",
   "metadata": {},
   "source": [
    "### No missing data"
   ]
  },
  {
   "cell_type": "code",
   "execution_count": 5,
   "id": "c2bb9788",
   "metadata": {},
   "outputs": [],
   "source": [
    "data.columns = data.columns.str.lower()\n",
    "data['sentiment'] = data['sentiment'].replace({\n",
    "    'Extremely Negative':'negative',\n",
    "    'Negative':'negative',\n",
    "    'Neutral':'neutral',\n",
    "    'Extremely Positive':'positive',\n",
    "    'Positive':'positive'\n",
    "})"
   ]
  },
  {
   "cell_type": "code",
   "execution_count": 6,
   "id": "8da1100b",
   "metadata": {},
   "outputs": [
    {
     "data": {
      "image/png": "[encoded data removed]",
      "text/plain": [
       "<Figure size 720x360 with 1 Axes>"
      ]
     },
     "metadata": {
      "needs_background": "light"
     },
     "output_type": "display_data"
    }
   ],
   "source": [
    "fig = plt.figure(figsize = (10, 5))\n",
    "sns.countplot(x = data.sentiment, order = data.sentiment.value_counts().index);"
   ]
  },
  {
   "cell_type": "code",
   "execution_count": 7,
   "id": "fa6f898f",
   "metadata": {},
   "outputs": [
    {
     "data": {
      "text/html": [
       "<div>\n",
       "<style scoped>\n",
       "    .dataframe tbody tr th:only-of-type {\n",
       "        vertical-align: middle;\n",
       "    }\n",
       "\n",
       "    .dataframe tbody tr th {\n",
       "        vertical-align: top;\n",
       "    }\n",
       "\n",
       "    .dataframe thead th {\n",
       "        text-align: right;\n",
       "    }\n",
       "</style>\n",
       "<table border=\"1\" class=\"dataframe\">\n",
       "  <thead>\n",
       "    <tr style=\"text-align: right;\">\n",
       "      <th></th>\n",
       "      <th>originaltweet</th>\n",
       "      <th>sentiment</th>\n",
       "    </tr>\n",
       "  </thead>\n",
       "  <tbody>\n",
       "    <tr>\n",
       "      <th>0</th>\n",
       "      <td>@MeNyrbie @Phil_Gahan @Chrisitv https://t.co/i...</td>\n",
       "      <td>neutral</td>\n",
       "    </tr>\n",
       "    <tr>\n",
       "      <th>1</th>\n",
       "      <td>advice Talk to your neighbours family to excha...</td>\n",
       "      <td>positive</td>\n",
       "    </tr>\n",
       "    <tr>\n",
       "      <th>2</th>\n",
       "      <td>Coronavirus Australia: Woolworths to give elde...</td>\n",
       "      <td>positive</td>\n",
       "    </tr>\n",
       "    <tr>\n",
       "      <th>3</th>\n",
       "      <td>My food stock is not the only one which is emp...</td>\n",
       "      <td>positive</td>\n",
       "    </tr>\n",
       "    <tr>\n",
       "      <th>4</th>\n",
       "      <td>Me, ready to go at supermarket during the #COV...</td>\n",
       "      <td>negative</td>\n",
       "    </tr>\n",
       "    <tr>\n",
       "      <th>...</th>\n",
       "      <td>...</td>\n",
       "      <td>...</td>\n",
       "    </tr>\n",
       "    <tr>\n",
       "      <th>9995</th>\n",
       "      <td>Popped out for food in #oldham \\r\\r\\nPolite , ...</td>\n",
       "      <td>positive</td>\n",
       "    </tr>\n",
       "    <tr>\n",
       "      <th>9996</th>\n",
       "      <td>Found my first paper towel in weeks at a super...</td>\n",
       "      <td>positive</td>\n",
       "    </tr>\n",
       "    <tr>\n",
       "      <th>9997</th>\n",
       "      <td>Through the #Coronavirus chaos, Im grateful f...</td>\n",
       "      <td>negative</td>\n",
       "    </tr>\n",
       "    <tr>\n",
       "      <th>9998</th>\n",
       "      <td>Therapist, Lisa Olivera gave gratitude cards t...</td>\n",
       "      <td>positive</td>\n",
       "    </tr>\n",
       "    <tr>\n",
       "      <th>9999</th>\n",
       "      <td>Older people and those with other conditions, ...</td>\n",
       "      <td>negative</td>\n",
       "    </tr>\n",
       "  </tbody>\n",
       "</table>\n",
       "<p>10000 rows × 2 columns</p>\n",
       "</div>"
      ],
      "text/plain": [
       "                                          originaltweet sentiment\n",
       "0     @MeNyrbie @Phil_Gahan @Chrisitv https://t.co/i...   neutral\n",
       "1     advice Talk to your neighbours family to excha...  positive\n",
       "2     Coronavirus Australia: Woolworths to give elde...  positive\n",
       "3     My food stock is not the only one which is emp...  positive\n",
       "4     Me, ready to go at supermarket during the #COV...  negative\n",
       "...                                                 ...       ...\n",
       "9995  Popped out for food in #oldham \\r\\r\\nPolite , ...  positive\n",
       "9996  Found my first paper towel in weeks at a super...  positive\n",
       "9997  Through the #Coronavirus chaos, Im grateful f...  negative\n",
       "9998  Therapist, Lisa Olivera gave gratitude cards t...  positive\n",
       "9999  Older people and those with other conditions, ...  negative\n",
       "\n",
       "[10000 rows x 2 columns]"
      ]
     },
     "execution_count": 7,
     "metadata": {},
     "output_type": "execute_result"
    }
   ],
   "source": [
    "data"
   ]
  },
  {
   "cell_type": "code",
   "execution_count": 8,
   "id": "2d644519",
   "metadata": {},
   "outputs": [],
   "source": [
    "# creating functions for text processing\n",
    "\n",
    "string.punctuation\n",
    "def final(X_data_full):\n",
    "    \n",
    "    # function for removing punctuations\n",
    "    def remove_punct(X_data_func):\n",
    "        string1 = X_data_func.lower()\n",
    "        translation_table = dict.fromkeys(map(ord, string.punctuation),' ')\n",
    "        string2 = string1.translate(translation_table)\n",
    "        return string2\n",
    "    \n",
    "    X_data_full_clear_punct = []\n",
    "    for i in range(len(X_data_full)):\n",
    "        test_data = remove_punct(X_data_full['originaltweet'][i])\n",
    "        X_data_full_clear_punct.append(test_data)\n",
    "        \n",
    "    # function to remove stopwords\n",
    "    def remove_stopwords(X_data_func):\n",
    "        pattern = re.compile(r'\\b(' + r'|'.join(stopwords.words('english')) + r')\\b\\s*')\n",
    "        string2 = pattern.sub(' ', X_data_func)\n",
    "        return string2\n",
    "    \n",
    "    X_data_full_clear_stopwords = []\n",
    "    for i in range(len(X_data_full)):\n",
    "        test_data = remove_stopwords(X_data_full['originaltweet'][i])\n",
    "        X_data_full_clear_stopwords.append(test_data)\n",
    "        \n",
    "    # function for tokenizing\n",
    "    def tokenize_words(X_data_func):\n",
    "        words = nltk.word_tokenize(X_data_func)\n",
    "        return words\n",
    "    \n",
    "    X_data_full_tokenized_words = []\n",
    "    for i in range(len(X_data_full)):\n",
    "        test_data = tokenize_words(X_data_full['originaltweet'][i])\n",
    "        X_data_full_tokenized_words.append(test_data)\n",
    "        \n",
    "    # function for lemmatizing\n",
    "    lemmatizer = WordNetLemmatizer()\n",
    "    def lemmatize_words(X_data_func):\n",
    "        words = lemmatizer.lemmatize(X_data_func)\n",
    "        return words\n",
    "    \n",
    "    X_data_full_lemmatized_words = []\n",
    "    for i in range(len(X_data_full)):\n",
    "        test_data = lemmatize_words(X_data_full['originaltweet'][i])\n",
    "        X_data_full_lemmatized_words.append(test_data)\n",
    "        \n",
    "    # creating the bag of words model\n",
    "    cv = CountVectorizer(max_features=10000)\n",
    "    X_data_full_vector = cv.fit_transform(X_data_full_lemmatized_words).toarray()\n",
    "    \n",
    "    \n",
    "    tfidf = TfidfTransformer()\n",
    "    X_data_full_tfidf = tfidf.fit_transform(X_data_full_vector).toarray()\n",
    "    \n",
    "#     return X_data_full_tfidf\n",
    "    return X_data_full_vector"
   ]
  },
  {
   "cell_type": "code",
   "execution_count": 9,
   "id": "e0ede25e",
   "metadata": {},
   "outputs": [],
   "source": [
    "X = final(data)"
   ]
  },
  {
   "cell_type": "code",
   "execution_count": 10,
   "id": "c53357e8",
   "metadata": {},
   "outputs": [],
   "source": [
    "X_train, X_test, y_train, y_test = train_test_split(X, data.sentiment, test_size=.2, random_state=seed)"
   ]
  },
  {
   "cell_type": "markdown",
   "id": "41ccd9ef",
   "metadata": {},
   "source": [
    "## Model Selection"
   ]
  },
  {
   "cell_type": "markdown",
   "id": "a321bf78",
   "metadata": {},
   "source": [
    "### Multinomial Naive Bayes"
   ]
  },
  {
   "cell_type": "code",
   "execution_count": 11,
   "id": "a4175a34",
   "metadata": {},
   "outputs": [],
   "source": [
    "# Instantiating, fitting and predicting\n",
    "\n",
    "MNB = MultinomialNB()\n",
    "MNB.fit(X_train, y_train)\n",
    "predictions = MNB.predict(X_test)"
   ]
  },
  {
   "cell_type": "code",
   "execution_count": 12,
   "id": "9d2e5502",
   "metadata": {},
   "outputs": [
    {
     "name": "stdout",
     "output_type": "stream",
     "text": [
      "              precision    recall  f1-score   support\n",
      "\n",
      "    negative       0.66      0.74      0.70       792\n",
      "     neutral       0.57      0.41      0.47       375\n",
      "    positive       0.67      0.69      0.68       833\n",
      "\n",
      "    accuracy                           0.65      2000\n",
      "   macro avg       0.63      0.61      0.62      2000\n",
      "weighted avg       0.65      0.65      0.65      2000\n",
      "\n",
      "[[584  40 168]\n",
      " [110 152 113]\n",
      " [185  75 573]]\n",
      "Accuracy :  65.45  %\n",
      "f1_score :  0.649\n"
     ]
    }
   ],
   "source": [
    "# Model evaluation\n",
    "\n",
    "print(classification_report(y_test, predictions))\n",
    "print(confusion_matrix(y_test, predictions))\n",
    "\n",
    "MNB_f1 = round(f1_score(y_test, predictions, average='weighted'), 3)\n",
    "MNB_accuracy = round((accuracy_score(y_test, predictions)*100),2)\n",
    "\n",
    "print(\"Accuracy : \" , MNB_accuracy , \" %\")\n",
    "print(\"f1_score : \" , MNB_f1)"
   ]
  },
  {
   "cell_type": "markdown",
   "id": "b7b1b068",
   "metadata": {},
   "source": [
    "### XGBoost"
   ]
  },
  {
   "cell_type": "code",
   "execution_count": 13,
   "id": "730fd166",
   "metadata": {},
   "outputs": [
    {
     "name": "stderr",
     "output_type": "stream",
     "text": [
      "C:\\ProgramData\\Anaconda3\\lib\\site-packages\\xgboost\\sklearn.py:1224: UserWarning: The use of label encoder in XGBClassifier is deprecated and will be removed in a future release. To remove this warning, do the following: 1) Pass option use_label_encoder=False when constructing XGBClassifier object; and 2) Encode your labels (y) as integers starting with 0, i.e. 0, 1, 2, ..., [num_class - 1].\n",
      "  warnings.warn(label_encoder_deprecation_msg, UserWarning)\n"
     ]
    },
    {
     "name": "stdout",
     "output_type": "stream",
     "text": [
      "[23:03:38] WARNING: C:/Users/Administrator/workspace/xgboost-win64_release_1.5.0/src/learner.cc:1115: Starting in XGBoost 1.3.0, the default evaluation metric used with the objective 'multi:softprob' was changed from 'merror' to 'mlogloss'. Explicitly set eval_metric if you'd like to restore the old behavior.\n"
     ]
    }
   ],
   "source": [
    "# Instatiation, fitting and predictions\n",
    "\n",
    "xgb_ = xgb.XGBClassifier()\n",
    "xgb_.fit(X_train, y_train)\n",
    "predictions = xgb_.predict(X_test)"
   ]
  },
  {
   "cell_type": "code",
   "execution_count": 14,
   "id": "45650939",
   "metadata": {},
   "outputs": [
    {
     "name": "stdout",
     "output_type": "stream",
     "text": [
      "              precision    recall  f1-score   support\n",
      "\n",
      "    negative       0.78      0.75      0.76       792\n",
      "     neutral       0.62      0.64      0.63       375\n",
      "    positive       0.75      0.77      0.76       833\n",
      "\n",
      "    accuracy                           0.74      2000\n",
      "   macro avg       0.72      0.72      0.72      2000\n",
      "weighted avg       0.74      0.74      0.74      2000\n",
      "\n",
      "[[596  70 126]\n",
      " [ 54 239  82]\n",
      " [119  75 639]]\n",
      "Accuracy :  73.7  %\n",
      "f1_score :  0.737\n"
     ]
    }
   ],
   "source": [
    "# Model evaluation\n",
    "print(classification_report(y_test, predictions))\n",
    "print(confusion_matrix(y_test, predictions))\n",
    "\n",
    "xgb_f1 = round(f1_score(y_test, predictions, average= 'weighted'), 3)\n",
    "xgb_accuracy = round((accuracy_score(y_test, predictions) * 100), 2)\n",
    "\n",
    "print(\"Accuracy : \" , xgb_accuracy , \" %\")\n",
    "print(\"f1_score : \" , xgb_f1)"
   ]
  },
  {
   "cell_type": "markdown",
   "id": "e1fa422b",
   "metadata": {},
   "source": [
    "### Random Forest"
   ]
  },
  {
   "cell_type": "code",
   "execution_count": 15,
   "id": "39020e65",
   "metadata": {},
   "outputs": [],
   "source": [
    "# Instatiation, fitting and predictions\n",
    "\n",
    "from sklearn.ensemble import RandomForestClassifier\n",
    "\n",
    "rfc=RandomForestClassifier(n_estimators= 10, random_state= seed)\n",
    "rfc.fit(X_train, y_train)\n",
    "predictions = rfc.predict(X_test)"
   ]
  },
  {
   "cell_type": "code",
   "execution_count": 16,
   "id": "f4149a63",
   "metadata": {},
   "outputs": [
    {
     "name": "stdout",
     "output_type": "stream",
     "text": [
      "              precision    recall  f1-score   support\n",
      "\n",
      "    negative       0.57      0.74      0.64       792\n",
      "     neutral       0.59      0.42      0.49       375\n",
      "    positive       0.64      0.54      0.59       833\n",
      "\n",
      "    accuracy                           0.60      2000\n",
      "   macro avg       0.60      0.57      0.57      2000\n",
      "weighted avg       0.60      0.60      0.59      2000\n",
      "\n",
      "[[584  38 170]\n",
      " [135 159  81]\n",
      " [309  72 452]]\n",
      "Accuracy :  59.75  %\n",
      "f1_score :  0.592\n"
     ]
    }
   ],
   "source": [
    "# Model evaluation\n",
    "\n",
    "print(classification_report(y_test, predictions))\n",
    "print(confusion_matrix(y_test, predictions))\n",
    "\n",
    "rfc_f1 = round(f1_score(y_test, predictions, average= 'weighted'), 3)\n",
    "rfc_accuracy = round((accuracy_score(y_test, predictions) * 100), 2)\n",
    "\n",
    "print(\"Accuracy : \" , rfc_accuracy , \" %\")\n",
    "print(\"f1_score : \" , rfc_f1)"
   ]
  },
  {
   "cell_type": "code",
   "execution_count": null,
   "id": "f4277c2b",
   "metadata": {},
   "outputs": [],
   "source": [
    "#Comapring the accuracy for various models\n",
    "\n",
    "model = ['MNB', 'Random Forest', 'XGBoost']\n",
    "acc = [MNB_accuracy, rfc_accuracy, xgb_accuracy]\n",
    "\n",
    "sns.set_style(\"whitegrid\")\n",
    "plt.figure(figsize=(10,5))\n",
    "plt.yticks(np.arange(0,100,10))\n",
    "plt.ylabel(\"Test Accuracy %\")\n",
    "plt.xlabel(\"Machine Learning Model\")\n",
    "sns.barplot(x= model, y= acc)\n",
    "plt.show()"
   ]
  },
  {
   "cell_type": "code",
   "execution_count": null,
   "id": "61309e1c",
   "metadata": {},
   "outputs": [],
   "source": [
    "# Comparing the f1-score for various models\n",
    "model = ['MNB', 'Random Forest', 'XGBoost']\n",
    "f1_score = [MNB_f1, rfc_f1, xgb_f1]\n",
    "\n",
    "sns.set_style(\"whitegrid\")\n",
    "plt.figure(figsize=(10,8))\n",
    "plt.yticks(np.linspace(0,1,21))\n",
    "plt.ylabel(\"f1-score\")\n",
    "plt.xlabel(\"Machine Learning Model\")\n",
    "sns.barplot(x= model,  y= f1_score)\n",
    "plt.show()"
   ]
  },
  {
   "cell_type": "code",
   "execution_count": null,
   "id": "15bf5474",
   "metadata": {},
   "outputs": [],
   "source": []
  }
 ],
 "metadata": {
  "kernelspec": {
   "display_name": "Python 3",
   "language": "python",
   "name": "python3"
  },
  "language_info": {
   "codemirror_mode": {
    "name": "ipython",
    "version": 3
   },
   "file_extension": ".py",
   "mimetype": "text/x-python",
   "name": "python",
   "nbconvert_exporter": "python",
   "pygments_lexer": "ipython3",
   "version": "3.8.8"
  }
 },
 "nbformat": 4,
 "nbformat_minor": 5
}
